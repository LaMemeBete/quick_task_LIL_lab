{
 "cells": [
  {
   "cell_type": "code",
   "execution_count": 200,
   "metadata": {},
   "outputs": [],
   "source": [
    "import pandas as pd\n",
    "from matplotlib import pyplot as plt\n",
    "import numpy as np\n",
    "\n",
    "from sklearn.naive_bayes import BernoulliNB\n",
    "from sklearn.svm import LinearSVC\n",
    "from sklearn.metrics import confusion_matrix\n",
    "from nltk.translate import nist_score, bleu_score\n",
    "from nltk.tokenize import word_tokenize\n",
    "from nltk.translate import nist_score, bleu_score"
   ]
  },
  {
   "cell_type": "code",
   "execution_count": 58,
   "metadata": {},
   "outputs": [],
   "source": [
    "# function to read lines from file to pandas data frame\n",
    "def read_file(path):\n",
    "    a = []\n",
    "    index = 0\n",
    "    with open(path) as f:\n",
    "        prev_lines = []\n",
    "        for line in f:\n",
    "            prev_lines.append(line.strip('\\n'))\n",
    "            if index%5==0 and index!=0:\n",
    "                a.append(prev_lines[0:5])\n",
    "                del prev_lines[:]\n",
    "                index = 0\n",
    "            else:\n",
    "                index += 1\n",
    "    return pd.DataFrame(a, columns=['source','ref','candidate','bleu','label'])\n",
    "\n",
    "# source https://stackoverflow.com/questions/51711750/read-relative-lines-in-a-text-document-and-convert-to-pandas-df"
   ]
  },
  {
   "cell_type": "code",
   "execution_count": 106,
   "metadata": {},
   "outputs": [],
   "source": [
    "# read files and create train, dev and test sets\n",
    "df = read_file('train.txt')\n",
    "test = read_file('test.txt')\n",
    "\n",
    "# replace the tet labels with numeric values\n",
    "df.loc[df['label'] == 'H', 'label'] = 1\n",
    "df.loc[df['label'] == 'M', 'label'] = 0\n",
    "test.loc[test['label'] == 'H', 'label'] = 1\n",
    "test.loc[test['label'] == 'M', 'label'] = 0\n",
    "train, dev = np.split(df.sample(frac=1), [int(.7*len(df))])"
   ]
  },
  {
   "cell_type": "code",
   "execution_count": 141,
   "metadata": {},
   "outputs": [
    {
     "data": {
      "text/html": [
       "<div>\n",
       "<style scoped>\n",
       "    .dataframe tbody tr th:only-of-type {\n",
       "        vertical-align: middle;\n",
       "    }\n",
       "\n",
       "    .dataframe tbody tr th {\n",
       "        vertical-align: top;\n",
       "    }\n",
       "\n",
       "    .dataframe thead th {\n",
       "        text-align: right;\n",
       "    }\n",
       "</style>\n",
       "<table border=\"1\" class=\"dataframe\">\n",
       "  <thead>\n",
       "    <tr style=\"text-align: right;\">\n",
       "      <th></th>\n",
       "      <th>source</th>\n",
       "      <th>ref</th>\n",
       "      <th>candidate</th>\n",
       "      <th>bleu</th>\n",
       "      <th>label</th>\n",
       "    </tr>\n",
       "  </thead>\n",
       "  <tbody>\n",
       "    <tr>\n",
       "      <th>0</th>\n",
       "      <td>发言人 说 , 世人 共 知 , 中国 的 发展 不仅 符合 13 亿 中国人民 的 根本利...</td>\n",
       "      <td>the spokesman noted that it is known to all th...</td>\n",
       "      <td>the spokesman said , the world , a total of 13...</td>\n",
       "      <td>0.5100</td>\n",
       "      <td>0</td>\n",
       "    </tr>\n",
       "    <tr>\n",
       "      <th>1</th>\n",
       "      <td>在 国际 政治 舞台上 , 中国 是 一个 负责任 的 国家 , 对 维护 世界和平 与 稳...</td>\n",
       "      <td>in the international political arena , china i...</td>\n",
       "      <td>in the international political arena , china i...</td>\n",
       "      <td>0.5996</td>\n",
       "      <td>1</td>\n",
       "    </tr>\n",
       "    <tr>\n",
       "      <th>2</th>\n",
       "      <td>在 核 不 扩散 问题 上 , 中国 始终 严格 履行 有关 国际公约 , 坚决 反对 任何...</td>\n",
       "      <td>on the issue of nuclear non-proliferation , ch...</td>\n",
       "      <td>on the issue of non-proliferation of nuclear w...</td>\n",
       "      <td>0.6667</td>\n",
       "      <td>1</td>\n",
       "    </tr>\n",
       "    <tr>\n",
       "      <th>3</th>\n",
       "      <td>发言人 指出 , 令人 遗憾 的 是 , 海德 先生 无视 客观 事实 , 在 中美 关系 ...</td>\n",
       "      <td>the spokesman points out that it is regrettabl...</td>\n",
       "      <td>the spokesman stated that it was regretful tha...</td>\n",
       "      <td>0.5326</td>\n",
       "      <td>1</td>\n",
       "    </tr>\n",
       "    <tr>\n",
       "      <th>4</th>\n",
       "      <td>中国 最 大规模 的 海水 淡化 工程 落户 舟山</td>\n",
       "      <td>china's largest seawater desalination project ...</td>\n",
       "      <td>china's largest seawater desalination project ...</td>\n",
       "      <td>0.6014</td>\n",
       "      <td>1</td>\n",
       "    </tr>\n",
       "    <tr>\n",
       "      <th>...</th>\n",
       "      <td>...</td>\n",
       "      <td>...</td>\n",
       "      <td>...</td>\n",
       "      <td>...</td>\n",
       "      <td>...</td>\n",
       "    </tr>\n",
       "    <tr>\n",
       "      <th>168</th>\n",
       "      <td>关 塔 那 摩 美国 海军基地 目前 关押 了 约 550 名 \" 基地 \" 组织 和 塔 ...</td>\n",
       "      <td>there are around 550 \" al-qaeda \" and taliban ...</td>\n",
       "      <td>currently , 550 suspected members of al-qaeda ...</td>\n",
       "      <td>0.4595</td>\n",
       "      <td>1</td>\n",
       "    </tr>\n",
       "    <tr>\n",
       "      <th>169</th>\n",
       "      <td>美国 政府 称 这些 人 是 敌方 战斗 人员 , 不是 战俘 , 因而 不 受 \" 日内瓦...</td>\n",
       "      <td>the us government has declared these people as...</td>\n",
       "      <td>the us government claimed that they are advers...</td>\n",
       "      <td>0.4227</td>\n",
       "      <td>0</td>\n",
       "    </tr>\n",
       "    <tr>\n",
       "      <th>170</th>\n",
       "      <td>许多 国家 批评 美国 政府 无限期 地 羁押 他们 的 公民 , 一些 国际组织 也 批评...</td>\n",
       "      <td>many countries have criticized the us governme...</td>\n",
       "      <td>many criticize the government of the indefinit...</td>\n",
       "      <td>0.6292</td>\n",
       "      <td>0</td>\n",
       "    </tr>\n",
       "    <tr>\n",
       "      <th>171</th>\n",
       "      <td>国家 域 名 顶 级 节点 落户 上海</td>\n",
       "      <td>national top-level node for domain names to se...</td>\n",
       "      <td>the national domain names top nodes in shanghai</td>\n",
       "      <td>0.4868</td>\n",
       "      <td>0</td>\n",
       "    </tr>\n",
       "    <tr>\n",
       "      <th>172</th>\n",
       "      <td>新华社 上海 12 月 21 日 电 ( 冯 亦 珍 陈 海 宇 ) 21 日 , 中国 互...</td>\n",
       "      <td>xinhua news agency report of december 21st fro...</td>\n",
       "      <td>shanghai , december 21 ( xinhua ) chen , china...</td>\n",
       "      <td>0.4086</td>\n",
       "      <td>0</td>\n",
       "    </tr>\n",
       "  </tbody>\n",
       "</table>\n",
       "<p>173 rows × 5 columns</p>\n",
       "</div>"
      ],
      "text/plain": [
       "                                                source  \\\n",
       "0    发言人 说 , 世人 共 知 , 中国 的 发展 不仅 符合 13 亿 中国人民 的 根本利...   \n",
       "1    在 国际 政治 舞台上 , 中国 是 一个 负责任 的 国家 , 对 维护 世界和平 与 稳...   \n",
       "2    在 核 不 扩散 问题 上 , 中国 始终 严格 履行 有关 国际公约 , 坚决 反对 任何...   \n",
       "3    发言人 指出 , 令人 遗憾 的 是 , 海德 先生 无视 客观 事实 , 在 中美 关系 ...   \n",
       "4                            中国 最 大规模 的 海水 淡化 工程 落户 舟山   \n",
       "..                                                 ...   \n",
       "168  关 塔 那 摩 美国 海军基地 目前 关押 了 约 550 名 \" 基地 \" 组织 和 塔 ...   \n",
       "169  美国 政府 称 这些 人 是 敌方 战斗 人员 , 不是 战俘 , 因而 不 受 \" 日内瓦...   \n",
       "170  许多 国家 批评 美国 政府 无限期 地 羁押 他们 的 公民 , 一些 国际组织 也 批评...   \n",
       "171                                国家 域 名 顶 级 节点 落户 上海   \n",
       "172  新华社 上海 12 月 21 日 电 ( 冯 亦 珍 陈 海 宇 ) 21 日 , 中国 互...   \n",
       "\n",
       "                                                   ref  \\\n",
       "0    the spokesman noted that it is known to all th...   \n",
       "1    in the international political arena , china i...   \n",
       "2    on the issue of nuclear non-proliferation , ch...   \n",
       "3    the spokesman points out that it is regrettabl...   \n",
       "4    china's largest seawater desalination project ...   \n",
       "..                                                 ...   \n",
       "168  there are around 550 \" al-qaeda \" and taliban ...   \n",
       "169  the us government has declared these people as...   \n",
       "170  many countries have criticized the us governme...   \n",
       "171  national top-level node for domain names to se...   \n",
       "172  xinhua news agency report of december 21st fro...   \n",
       "\n",
       "                                             candidate    bleu label  \n",
       "0    the spokesman said , the world , a total of 13...  0.5100     0  \n",
       "1    in the international political arena , china i...  0.5996     1  \n",
       "2    on the issue of non-proliferation of nuclear w...  0.6667     1  \n",
       "3    the spokesman stated that it was regretful tha...  0.5326     1  \n",
       "4    china's largest seawater desalination project ...  0.6014     1  \n",
       "..                                                 ...     ...   ...  \n",
       "168  currently , 550 suspected members of al-qaeda ...  0.4595     1  \n",
       "169  the us government claimed that they are advers...  0.4227     0  \n",
       "170  many criticize the government of the indefinit...  0.6292     0  \n",
       "171   the national domain names top nodes in shanghai   0.4868     0  \n",
       "172  shanghai , december 21 ( xinhua ) chen , china...  0.4086     0  \n",
       "\n",
       "[173 rows x 5 columns]"
      ]
     },
     "execution_count": 141,
     "metadata": {},
     "output_type": "execute_result"
    }
   ],
   "source": [
    "test"
   ]
  },
  {
   "cell_type": "code",
   "execution_count": 64,
   "metadata": {},
   "outputs": [],
   "source": [
    "# Function to get F1-score\n",
    "\n",
    "def calculate_f1(y_true, y_pred):\n",
    "    tn, fp, fn, tp = confusion_matrix(y_true, y_pred).ravel()\n",
    "    tpr= tp/(tp + fn)\n",
    "    fpr = fp/(fp + tn)\n",
    "    fnr = 1 - tpr\n",
    "    precision = tpr/(tpr+fpr)\n",
    "    recall = tpr/(tpr+fnr)\n",
    "    f1 = (2*precision*recall)/(precision + recall)\n",
    "    return f1"
   ]
  },
  {
   "cell_type": "code",
   "execution_count": 81,
   "metadata": {},
   "outputs": [],
   "source": [
    "# Create Bernoulli Naive Bayes object with prior probabilities of each class\n",
    "clf = BernoulliNB()\n",
    "\n",
    "# Train model\n",
    "model = clf.fit(train['bleu'].values.reshape(-1, 1), train['label'].values)\n",
    "\n",
    "# calculate F1 score\n",
    "model.predict(dev['bleu'].values.reshape(-1, 1))\n",
    "calculate_f1(model.predict(dev['bleu'].values.reshape(-1, 1)), dev['label'].values)"
   ]
  },
  {
   "cell_type": "code",
   "execution_count": 225,
   "metadata": {},
   "outputs": [
    {
     "name": "stdout",
     "output_type": "stream",
     "text": [
      "0.001\n",
      "0.6666666666666666\n",
      "0.01\n",
      "0.7133691364478874\n",
      "0.1\n",
      "0.7185635815958892\n",
      "1.0\n",
      "0.7064371899307894\n",
      "1.1\n",
      "0.710615488879305\n"
     ]
    },
    {
     "data": {
      "text/plain": [
       "[<matplotlib.lines.Line2D at 0x7f9d173b7640>]"
      ]
     },
     "execution_count": 225,
     "metadata": {},
     "output_type": "execute_result"
    },
    {
     "data": {
      "image/png": "[encoded data removed]",
      "text/plain": [
       "<Figure size 432x288 with 1 Axes>"
      ]
     },
     "metadata": {
      "needs_background": "light"
     },
     "output_type": "display_data"
    }
   ],
   "source": [
    "def getF1SVC(C):\n",
    "    return calculate_f1(dev['label'].values.reshape(-1, 1).astype('int'),LinearSVC(C=C, max_iter=100000).fit(train['bleu'].values.reshape(-1, 1), train['label'].values.astype('int')).predict(dev['bleu'].values.reshape(-1, 1)))\n",
    "\n",
    "cValues = np.array([0.001, 0.01, 0.1, 1.0,1.1])\n",
    "F1SVC = np.zeros(0)\n",
    "for C in cValues:\n",
    "    print(C)\n",
    "    valToApp = getF1SVC(C)\n",
    "    F1SVC = np.append(F1SVC, valToApp)\n",
    "    print(valToApp)\n",
    "\n",
    "# Show plot of F1-scores as a function of C value\n",
    "plt.xticks(cValues)\n",
    "plt.plot(cValues, F1SVC, '--bo')"
   ]
  },
  {
   "cell_type": "code",
   "execution_count": 226,
   "metadata": {},
   "outputs": [
    {
     "name": "stdout",
     "output_type": "stream",
     "text": [
      "0.01\n",
      "0.672340425531915\n",
      "0.1\n",
      "0.710615488879305\n",
      "0.9\n",
      "0.710615488879305\n",
      "1.0\n",
      "0.710615488879305\n",
      "2.0\n",
      "0.710615488879305\n",
      "3.0\n",
      "0.710615488879305\n",
      "4.0\n",
      "0.710615488879305\n",
      "5.0\n",
      "0.710615488879305\n",
      "6.0\n",
      "0.710615488879305\n",
      "7.0\n",
      "0.710615488879305\n",
      "8.0\n",
      "0.710615488879305\n",
      "9.0\n",
      "0.710615488879305\n",
      "10.0\n",
      "0.710615488879305\n"
     ]
    },
    {
     "data": {
      "text/plain": [
       "[<matplotlib.lines.Line2D at 0x7f9d174706a0>]"
      ]
     },
     "execution_count": 226,
     "metadata": {},
     "output_type": "execute_result"
    },
    {
     "data": {
      "image/png": "[encoded data removed]",
      "text/plain": [
       "<Figure size 432x288 with 1 Axes>"
      ]
     },
     "metadata": {
      "needs_background": "light"
     },
     "output_type": "display_data"
    }
   ],
   "source": [
    "# Kernelized SVM\n",
    "from sklearn.svm import SVC\n",
    "def getF1SVCRBF(C):\n",
    "    return calculate_f1(dev['label'].values.reshape(-1, 1).astype('int'),SVC(C=C, kernel='rbf').fit(train['bleu'].values.reshape(-1, 1), train['label'].values.astype('int')).predict(dev['bleu'].values.reshape(-1, 1)))\n",
    "\n",
    "cValues = np.array([0.01,0.1,0.9,1,2,3,4,5,6,7,8,9,10])\n",
    "F1SVCRBF = np.zeros(0)\n",
    "for C in cValues:\n",
    "    print(C)\n",
    "    valToApp = getF1SVCRBF(C)\n",
    "    F1SVCRBF = np.append(F1SVCRBF, valToApp)\n",
    "    print(valToApp)\n",
    "\n",
    "# Show plot of F1-scores as a function of C value\n",
    "plt.xticks(cValues)\n",
    "plt.plot(cValues, F1SVCRBF, '--bo')"
   ]
  },
  {
   "cell_type": "code",
   "execution_count": 227,
   "metadata": {},
   "outputs": [
    {
     "name": "stdout",
     "output_type": "stream",
     "text": [
      "0.6303953572723975\n"
     ]
    }
   ],
   "source": [
    "# random forests\n",
    "from sklearn.ensemble import RandomForestClassifier\n",
    "clf1 = RandomForestClassifier(max_depth=100, random_state=0)\n",
    "clf1.fit(train['bleu'].values.reshape(-1, 1), train['label'].values.astype('int'))\n",
    "print(calculate_f1(dev['label'].values.astype('int'),clf1.predict(dev['bleu'].values.reshape(-1, 1))))"
   ]
  },
  {
   "cell_type": "code",
   "execution_count": 223,
   "metadata": {},
   "outputs": [
    {
     "name": "stdout",
     "output_type": "stream",
     "text": [
      "0.7105594531390538\n"
     ]
    }
   ],
   "source": [
    "# Logistic regression prediction\n",
    "from sklearn.linear_model import LogisticRegression\n",
    "LogisticRegressionClf = LogisticRegression(random_state=0).fit(train['bleu'].values.reshape(-1, 1), train['label'].values.astype('int'))\n",
    "print(calculate_f1(dev['label'].values.astype('int'),LogisticRegressionClf.predict(dev['bleu'].values.reshape(-1, 1))))"
   ]
  },
  {
   "cell_type": "code",
   "execution_count": 228,
   "metadata": {},
   "outputs": [],
   "source": [
    "def calculate_nist(row):\n",
    "    ref = word_tokenize(row['ref'])\n",
    "    candidate = word_tokenize(row['candidate'])\n",
    "    return nist_score.sentence_nist([ref], candidate, n=4)"
   ]
  },
  {
   "cell_type": "code",
   "execution_count": 229,
   "metadata": {},
   "outputs": [],
   "source": [
    "dev['nist'] = dev.apply(lambda row: calculate_nist(row), axis=1)\n",
    "test['nist'] = test.apply(lambda row: calculate_nist(row), axis=1)\n",
    "train['nist'] = train.apply(lambda row: calculate_nist(row), axis=1)"
   ]
  },
  {
   "cell_type": "code",
   "execution_count": 231,
   "metadata": {},
   "outputs": [
    {
     "name": "stdout",
     "output_type": "stream",
     "text": [
      "0.001\n",
      "0.6648358949373256\n",
      "0.01\n",
      "0.7193223928004234\n",
      "0.1\n",
      "0.6770121598147075\n",
      "1.0\n",
      "0.6823640773827132\n",
      "1.1\n",
      "0.6823640773827132\n"
     ]
    },
    {
     "data": {
      "text/plain": [
       "[<matplotlib.lines.Line2D at 0x7f9d1757a670>]"
      ]
     },
     "execution_count": 231,
     "metadata": {},
     "output_type": "execute_result"
    },
    {
     "data": {
      "image/png": "[encoded data removed]",
      "text/plain": [
       "<Figure size 432x288 with 1 Axes>"
      ]
     },
     "metadata": {
      "needs_background": "light"
     },
     "output_type": "display_data"
    }
   ],
   "source": [
    "def getF1SVC(C):\n",
    "    return calculate_f1(dev['label'].values.reshape(-1, 1).astype('int'),LinearSVC(C=C, max_iter=100000).fit(train['nist'].values.reshape(-1, 1), train['label'].values.astype('int')).predict(dev['nist'].values.reshape(-1, 1)))\n",
    "\n",
    "cValues = np.array([0.001, 0.01, 0.1, 1.0,1.1])\n",
    "F1SVC = np.zeros(0)\n",
    "for C in cValues:\n",
    "    print(C)\n",
    "    valToApp = getF1SVC(C)\n",
    "    F1SVC = np.append(F1SVC, valToApp)\n",
    "    print(valToApp)\n",
    "\n",
    "# Show plot of F1-scores as a function of C value\n",
    "plt.xticks(cValues)\n",
    "plt.plot(cValues, F1SVC, '--bo')\n"
   ]
  },
  {
   "cell_type": "code",
   "execution_count": 233,
   "metadata": {},
   "outputs": [
    {
     "name": "stdout",
     "output_type": "stream",
     "text": [
      "0.01\n",
      "0.6666666666666666\n",
      "0.1\n",
      "0.6816552227015859\n",
      "0.9\n",
      "0.6777019271431161\n",
      "1.0\n",
      "0.6777019271431161\n",
      "2.0\n",
      "0.6777019271431161\n",
      "3.0\n",
      "0.6777019271431161\n",
      "4.0\n",
      "0.6816552227015859\n",
      "5.0\n",
      "0.6816552227015859\n",
      "6.0\n",
      "0.6816552227015859\n",
      "7.0\n",
      "0.6816552227015859\n",
      "8.0\n",
      "0.6816552227015859\n",
      "9.0\n",
      "0.6816552227015859\n",
      "10.0\n",
      "0.6816552227015859\n"
     ]
    },
    {
     "data": {
      "text/plain": [
       "[<matplotlib.lines.Line2D at 0x7f9d17690850>]"
      ]
     },
     "execution_count": 233,
     "metadata": {},
     "output_type": "execute_result"
    },
    {
     "data": {
      "image/png": "[encoded data removed]",
      "text/plain": [
       "<Figure size 432x288 with 1 Axes>"
      ]
     },
     "metadata": {
      "needs_background": "light"
     },
     "output_type": "display_data"
    }
   ],
   "source": [
    "# Kernelized SVM\n",
    "from sklearn.svm import SVC\n",
    "def getF1SVCRBF(C):\n",
    "    return calculate_f1(dev['label'].values.reshape(-1, 1).astype('int'),SVC(C=C, kernel='rbf').fit(train['nist'].values.reshape(-1, 1), train['label'].values.astype('int')).predict(dev['nist'].values.reshape(-1, 1)))\n",
    "\n",
    "cValues = np.array([0.01,0.1,0.9,1,2,3,4,5,6,7,8,9,10])\n",
    "F1SVCRBF = np.zeros(0)\n",
    "for C in cValues:\n",
    "    print(C)\n",
    "    valToApp = getF1SVCRBF(C)\n",
    "    F1SVCRBF = np.append(F1SVCRBF, valToApp)\n",
    "    print(valToApp)\n",
    "\n",
    "# Show plot of F1-scores as a function of C value\n",
    "plt.xticks(cValues)\n",
    "plt.plot(cValues, F1SVCRBF, '--bo')"
   ]
  },
  {
   "cell_type": "code",
   "execution_count": 234,
   "metadata": {},
   "outputs": [
    {
     "name": "stdout",
     "output_type": "stream",
     "text": [
      "0.5830258302583027\n"
     ]
    }
   ],
   "source": [
    "# random forests\n",
    "from sklearn.ensemble import RandomForestClassifier\n",
    "clf1 = RandomForestClassifier(max_depth=100, random_state=0)\n",
    "clf1.fit(train['nist'].values.reshape(-1, 1), train['label'].values.astype('int'))\n",
    "print(calculate_f1(dev['label'].values.astype('int'),clf1.predict(dev['nist'].values.reshape(-1, 1))))"
   ]
  },
  {
   "cell_type": "code",
   "execution_count": 232,
   "metadata": {},
   "outputs": [
    {
     "name": "stdout",
     "output_type": "stream",
     "text": [
      "0.6761768901569187\n"
     ]
    }
   ],
   "source": [
    "# Logistic regression prediction\n",
    "from sklearn.linear_model import LogisticRegression\n",
    "LogisticRegressionClf = LogisticRegression(random_state=0).fit(train['nist'].values.reshape(-1, 1), train['label'].values.astype('int'))\n",
    "print(calculate_f1(dev['label'].values.astype('int'),LogisticRegressionClf.predict(dev['nist'].values.reshape(-1, 1))))"
   ]
  },
  {
   "cell_type": "code",
   "execution_count": 235,
   "metadata": {},
   "outputs": [
    {
     "name": "stdout",
     "output_type": "stream",
     "text": [
      "0.001\n",
      "0.6648358949373256\n",
      "0.01\n",
      "0.724656017713111\n",
      "0.1\n",
      "0.6884936992109293\n",
      "1.0\n",
      "0.7105594531390538\n",
      "1.1\n",
      "0.7105594531390538\n"
     ]
    },
    {
     "data": {
      "text/plain": [
       "[<matplotlib.lines.Line2D at 0x7f9d177452b0>]"
      ]
     },
     "execution_count": 235,
     "metadata": {},
     "output_type": "execute_result"
    },
    {
     "data": {
      "image/png": "[encoded data removed]",
      "text/plain": [
       "<Figure size 432x288 with 1 Axes>"
      ]
     },
     "metadata": {
      "needs_background": "light"
     },
     "output_type": "display_data"
    }
   ],
   "source": [
    "#########################  NIST + BLEU  ###############################\n",
    "\n",
    "#SVM\n",
    "def getF1SVC(C):\n",
    "    return calculate_f1(dev['label'].values.reshape(-1, 1).astype('int'),LinearSVC(C=C, max_iter=100000).fit(np.array(train[['nist','bleu']]), train['label'].values.astype('int')).predict(np.array(dev[['nist','bleu']])))\n",
    "\n",
    "cValues = np.array([0.001, 0.01, 0.1, 1.0,1.1])\n",
    "F1SVC = np.zeros(0)\n",
    "for C in cValues:\n",
    "    print(C)\n",
    "    valToApp = getF1SVC(C)\n",
    "    F1SVC = np.append(F1SVC, valToApp)\n",
    "    print(valToApp)\n",
    "\n",
    "# Show plot of F1-scores as a function of C value\n",
    "plt.xticks(cValues)\n",
    "plt.plot(cValues, F1SVC, '--bo')"
   ]
  },
  {
   "cell_type": "code",
   "execution_count": 236,
   "metadata": {},
   "outputs": [
    {
     "name": "stdout",
     "output_type": "stream",
     "text": [
      "0.01\n",
      "0.6666666666666666\n",
      "0.1\n",
      "0.6816552227015859\n",
      "0.9\n",
      "0.6768485751536599\n",
      "1.0\n",
      "0.6728383632660618\n",
      "2.0\n",
      "0.6850141376060321\n",
      "3.0\n",
      "0.6850141376060321\n",
      "4.0\n",
      "0.6915093159934975\n",
      "5.0\n",
      "0.6891712497629433\n",
      "6.0\n",
      "0.6915093159934975\n",
      "7.0\n",
      "0.6891712497629433\n",
      "8.0\n",
      "0.6891712497629433\n",
      "9.0\n",
      "0.6891712497629433\n",
      "10.0\n",
      "0.6891712497629433\n"
     ]
    },
    {
     "data": {
      "text/plain": [
       "[<matplotlib.lines.Line2D at 0x7f9d18004130>]"
      ]
     },
     "execution_count": 236,
     "metadata": {},
     "output_type": "execute_result"
    },
    {
     "data": {
      "image/png": "[encoded data removed]",
      "text/plain": [
       "<Figure size 432x288 with 1 Axes>"
      ]
     },
     "metadata": {
      "needs_background": "light"
     },
     "output_type": "display_data"
    }
   ],
   "source": [
    "# Kernelized SVM\n",
    "from sklearn.svm import SVC\n",
    "def getF1SVCRBF(C):\n",
    "    return calculate_f1(dev['label'].values.reshape(-1, 1).astype('int'),SVC(C=C, kernel='rbf').fit(np.array(train[['nist','bleu']]), train['label'].values.astype('int')).predict(np.array(dev[['nist','bleu']])))\n",
    "\n",
    "cValues = np.array([0.01,0.1,0.9,1,2,3,4,5,6,7,8,9,10])\n",
    "F1SVCRBF = np.zeros(0)\n",
    "for C in cValues:\n",
    "    print(C)\n",
    "    valToApp = getF1SVCRBF(C)\n",
    "    F1SVCRBF = np.append(F1SVCRBF, valToApp)\n",
    "    print(valToApp)\n",
    "\n",
    "# Show plot of F1-scores as a function of C value\n",
    "plt.xticks(cValues)\n",
    "plt.plot(cValues, F1SVCRBF, '--bo')"
   ]
  },
  {
   "cell_type": "code",
   "execution_count": 237,
   "metadata": {},
   "outputs": [
    {
     "name": "stdout",
     "output_type": "stream",
     "text": [
      "0.6597077244258872\n"
     ]
    }
   ],
   "source": [
    "# random forests\n",
    "from sklearn.ensemble import RandomForestClassifier\n",
    "clf1 = RandomForestClassifier(max_depth=100, random_state=0)\n",
    "clf1.fit(np.array(train[['nist','bleu']]), train['label'].values.astype('int'))\n",
    "print(calculate_f1(dev['label'].values.astype('int'),clf1.predict(np.array(dev[['nist','bleu']]))))"
   ]
  },
  {
   "cell_type": "code",
   "execution_count": 238,
   "metadata": {},
   "outputs": [
    {
     "name": "stdout",
     "output_type": "stream",
     "text": [
      "0.6839826839826841\n"
     ]
    }
   ],
   "source": [
    "# Logistic regression prediction\n",
    "from sklearn.linear_model import LogisticRegression\n",
    "LogisticRegressionClf = LogisticRegression(random_state=0).fit(np.array(train[['nist','bleu']]), train['label'].values.astype('int'))\n",
    "print(calculate_f1(dev['label'].values.astype('int'),LogisticRegressionClf.predict(np.array(dev[['nist','bleu']]))))"
   ]
  },
  {
   "cell_type": "code",
   "execution_count": 222,
   "metadata": {},
   "outputs": [
    {
     "data": {
      "text/plain": [
       "0.7528441221475617"
      ]
     },
     "execution_count": 222,
     "metadata": {},
     "output_type": "execute_result"
    }
   ],
   "source": [
    "from sklearn.neural_network import MLPClassifier\n",
    "clf = MLPClassifier(solver='lbfgs', alpha=1e-5,hidden_layer_sizes=(5, 2), random_state=1)\n",
    "clf.fit(np.array(train[['nist','bleu']]), train['label'].values.astype('int'))\n",
    "calculate_f1(test['label'].values.astype('int'), clf.predict(np.array(test[['nist','bleu']])))"
   ]
  },
  {
   "cell_type": "code",
   "execution_count": 239,
   "metadata": {},
   "outputs": [
    {
     "data": {
      "text/plain": [
       "0.7544999712461902"
      ]
     },
     "execution_count": 239,
     "metadata": {},
     "output_type": "execute_result"
    }
   ],
   "source": [
    "calculate_f1(test['label'].values.reshape(-1, 1).astype('int'),LinearSVC(C=0.01, max_iter=100000).fit(np.array(train[['nist','bleu']]), train['label'].values.astype('int')).predict(np.array(test[['nist','bleu']])))"
   ]
  },
  {
   "cell_type": "code",
   "execution_count": null,
   "metadata": {},
   "outputs": [],
   "source": []
  }
 ],
 "metadata": {
  "kernelspec": {
   "display_name": "Python 3",
   "language": "python",
   "name": "python3"
  },
  "language_info": {
   "codemirror_mode": {
    "name": "ipython",
    "version": 3
   },
   "file_extension": ".py",
   "mimetype": "text/x-python",
   "name": "python",
   "nbconvert_exporter": "python",
   "pygments_lexer": "ipython3",
   "version": "3.8.3"
  }
 },
 "nbformat": 4,
 "nbformat_minor": 4
}
